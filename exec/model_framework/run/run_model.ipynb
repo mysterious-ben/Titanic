{
 "cells": [
  {
   "cell_type": "markdown",
   "metadata": {
    "collapsed": true
   },
   "source": [
    "##Run Classifier"
   ]
  },
  {
   "cell_type": "code",
   "execution_count": 1,
   "metadata": {},
   "outputs": [],
   "source": [
    "% matplotlib qt\n",
    "\n",
    "import numpy as np\n",
    "import pandas as pd\n",
    "import matplotlib.pyplot as plt\n",
    "from IPython.display import display\n",
    "import exec.model_framework.model as mdl\n",
    "from utils.utilgen import viewdf\n",
    "\n",
    "% reload_ext autoreload\n",
    "% autoreload 2\n"
   ]
  },
  {
   "cell_type": "markdown",
   "metadata": {},
   "source": [
    "###Data"
   ]
  },
  {
   "cell_type": "code",
   "execution_count": 2,
   "metadata": {},
   "outputs": [
    {
     "data": {
      "text/html": [
       "<div>\n",
       "<style scoped>\n",
       "    .dataframe tbody tr th:only-of-type {\n",
       "        vertical-align: middle;\n",
       "    }\n",
       "\n",
       "    .dataframe tbody tr th {\n",
       "        vertical-align: top;\n",
       "    }\n",
       "\n",
       "    .dataframe thead th {\n",
       "        text-align: right;\n",
       "    }\n",
       "</style>\n",
       "<table border=\"1\" class=\"dataframe\">\n",
       "  <thead>\n",
       "    <tr style=\"text-align: right;\">\n",
       "      <th></th>\n",
       "      <th>Survived</th>\n",
       "      <th>Pclass</th>\n",
       "      <th>Age</th>\n",
       "      <th>Fare</th>\n",
       "      <th>EmbarkedC</th>\n",
       "      <th>EmbarkedS</th>\n",
       "      <th>Female</th>\n",
       "      <th>SibSpYes</th>\n",
       "      <th>ParchYes</th>\n",
       "    </tr>\n",
       "  </thead>\n",
       "  <tbody>\n",
       "    <tr>\n",
       "      <th>312</th>\n",
       "      <td>0</td>\n",
       "      <td>2</td>\n",
       "      <td>60.000000</td>\n",
       "      <td>39.0000</td>\n",
       "      <td>0</td>\n",
       "      <td>1</td>\n",
       "      <td>0</td>\n",
       "      <td>1</td>\n",
       "      <td>1</td>\n",
       "    </tr>\n",
       "    <tr>\n",
       "      <th>604</th>\n",
       "      <td>0</td>\n",
       "      <td>3</td>\n",
       "      <td>31.000000</td>\n",
       "      <td>7.7500</td>\n",
       "      <td>0</td>\n",
       "      <td>0</td>\n",
       "      <td>0</td>\n",
       "      <td>0</td>\n",
       "      <td>0</td>\n",
       "    </tr>\n",
       "    <tr>\n",
       "      <th>87</th>\n",
       "      <td>1</td>\n",
       "      <td>3</td>\n",
       "      <td>29.812625</td>\n",
       "      <td>7.8792</td>\n",
       "      <td>0</td>\n",
       "      <td>0</td>\n",
       "      <td>1</td>\n",
       "      <td>0</td>\n",
       "      <td>0</td>\n",
       "    </tr>\n",
       "    <tr>\n",
       "      <th>107</th>\n",
       "      <td>0</td>\n",
       "      <td>3</td>\n",
       "      <td>28.000000</td>\n",
       "      <td>14.4000</td>\n",
       "      <td>0</td>\n",
       "      <td>1</td>\n",
       "      <td>1</td>\n",
       "      <td>1</td>\n",
       "      <td>1</td>\n",
       "    </tr>\n",
       "    <tr>\n",
       "      <th>542</th>\n",
       "      <td>1</td>\n",
       "      <td>1</td>\n",
       "      <td>37.000000</td>\n",
       "      <td>52.5542</td>\n",
       "      <td>0</td>\n",
       "      <td>1</td>\n",
       "      <td>0</td>\n",
       "      <td>1</td>\n",
       "      <td>1</td>\n",
       "    </tr>\n",
       "  </tbody>\n",
       "</table>\n",
       "</div>"
      ],
      "text/plain": [
       "<div>\n",
       "<style scoped>\n",
       "    .dataframe tbody tr th:only-of-type {\n",
       "        vertical-align: middle;\n",
       "    }\n",
       "\n",
       "    .dataframe tbody tr th {\n",
       "        vertical-align: top;\n",
       "    }\n",
       "\n",
       "    .dataframe thead th {\n",
       "        text-align: right;\n",
       "    }\n",
       "</style>\n",
       "<table border=\"1\" class=\"dataframe\">\n",
       "  <thead>\n",
       "    <tr style=\"text-align: right;\">\n",
       "      <th></th>\n",
       "      <th>Survived</th>\n",
       "      <th>Pclass</th>\n",
       "      <th>Age</th>\n",
       "      <th>Fare</th>\n",
       "      <th>EmbarkedC</th>\n",
       "      <th>EmbarkedS</th>\n",
       "      <th>Female</th>\n",
       "      <th>SibSpYes</th>\n",
       "      <th>ParchYes</th>\n",
       "    </tr>\n",
       "  </thead>\n",
       "  <tbody>\n",
       "    <tr>\n",
       "      <th>312</th>\n",
       "      <td>0</td>\n",
       "      <td>2</td>\n",
       "      <td>60.000000</td>\n",
       "      <td>39.0000</td>\n",
       "      <td>0</td>\n",
       "      <td>1</td>\n",
       "      <td>0</td>\n",
       "      <td>1</td>\n",
       "      <td>1</td>\n",
       "    </tr>\n",
       "    <tr>\n",
       "      <th>604</th>\n",
       "      <td>0</td>\n",
       "      <td>3</td>\n",
       "      <td>31.000000</td>\n",
       "      <td>7.7500</td>\n",
       "      <td>0</td>\n",
       "      <td>0</td>\n",
       "      <td>0</td>\n",
       "      <td>0</td>\n",
       "      <td>0</td>\n",
       "    </tr>\n",
       "    <tr>\n",
       "      <th>87</th>\n",
       "      <td>1</td>\n",
       "      <td>3</td>\n",
       "      <td>29.812625</td>\n",
       "      <td>7.8792</td>\n",
       "      <td>0</td>\n",
       "      <td>0</td>\n",
       "      <td>1</td>\n",
       "      <td>0</td>\n",
       "      <td>0</td>\n",
       "    </tr>\n",
       "    <tr>\n",
       "      <th>107</th>\n",
       "      <td>0</td>\n",
       "      <td>3</td>\n",
       "      <td>28.000000</td>\n",
       "      <td>14.4000</td>\n",
       "      <td>0</td>\n",
       "      <td>1</td>\n",
       "      <td>1</td>\n",
       "      <td>1</td>\n",
       "      <td>1</td>\n",
       "    </tr>\n",
       "    <tr>\n",
       "      <th>542</th>\n",
       "      <td>1</td>\n",
       "      <td>1</td>\n",
       "      <td>37.000000</td>\n",
       "      <td>52.5542</td>\n",
       "      <td>0</td>\n",
       "      <td>1</td>\n",
       "      <td>0</td>\n",
       "      <td>1</td>\n",
       "      <td>1</td>\n",
       "    </tr>\n",
       "  </tbody>\n",
       "</table>\n",
       "</div>"
      ]
     },
     "execution_count": 0,
     "metadata": {},
     "output_type": "execute_result"
    },
    {
     "data": {
      "text/html": [
       "<div>\n",
       "<style scoped>\n",
       "    .dataframe tbody tr th:only-of-type {\n",
       "        vertical-align: middle;\n",
       "    }\n",
       "\n",
       "    .dataframe tbody tr th {\n",
       "        vertical-align: top;\n",
       "    }\n",
       "\n",
       "    .dataframe thead th {\n",
       "        text-align: right;\n",
       "    }\n",
       "</style>\n",
       "<table border=\"1\" class=\"dataframe\">\n",
       "  <thead>\n",
       "    <tr style=\"text-align: right;\">\n",
       "      <th></th>\n",
       "      <th>Survived</th>\n",
       "      <th>Pclass</th>\n",
       "      <th>Age</th>\n",
       "      <th>Fare</th>\n",
       "      <th>EmbarkedC</th>\n",
       "      <th>EmbarkedS</th>\n",
       "      <th>Female</th>\n",
       "      <th>SibSpYes</th>\n",
       "      <th>ParchYes</th>\n",
       "    </tr>\n",
       "  </thead>\n",
       "  <tbody>\n",
       "    <tr>\n",
       "      <th>229</th>\n",
       "      <td>1</td>\n",
       "      <td>2</td>\n",
       "      <td>42.000000</td>\n",
       "      <td>13.0</td>\n",
       "      <td>0</td>\n",
       "      <td>1</td>\n",
       "      <td>1</td>\n",
       "      <td>0</td>\n",
       "      <td>0</td>\n",
       "    </tr>\n",
       "    <tr>\n",
       "      <th>199</th>\n",
       "      <td>0</td>\n",
       "      <td>3</td>\n",
       "      <td>29.435674</td>\n",
       "      <td>14.5</td>\n",
       "      <td>0</td>\n",
       "      <td>1</td>\n",
       "      <td>0</td>\n",
       "      <td>0</td>\n",
       "      <td>0</td>\n",
       "    </tr>\n",
       "    <tr>\n",
       "      <th>127</th>\n",
       "      <td>1</td>\n",
       "      <td>2</td>\n",
       "      <td>0.670000</td>\n",
       "      <td>14.5</td>\n",
       "      <td>0</td>\n",
       "      <td>1</td>\n",
       "      <td>0</td>\n",
       "      <td>1</td>\n",
       "      <td>1</td>\n",
       "    </tr>\n",
       "    <tr>\n",
       "      <th>72</th>\n",
       "      <td>1</td>\n",
       "      <td>2</td>\n",
       "      <td>24.000000</td>\n",
       "      <td>13.0</td>\n",
       "      <td>0</td>\n",
       "      <td>1</td>\n",
       "      <td>1</td>\n",
       "      <td>0</td>\n",
       "      <td>0</td>\n",
       "    </tr>\n",
       "    <tr>\n",
       "      <th>48</th>\n",
       "      <td>1</td>\n",
       "      <td>2</td>\n",
       "      <td>2.000000</td>\n",
       "      <td>26.0</td>\n",
       "      <td>0</td>\n",
       "      <td>1</td>\n",
       "      <td>0</td>\n",
       "      <td>1</td>\n",
       "      <td>1</td>\n",
       "    </tr>\n",
       "  </tbody>\n",
       "</table>\n",
       "</div>"
      ],
      "text/plain": [
       "<div>\n",
       "<style scoped>\n",
       "    .dataframe tbody tr th:only-of-type {\n",
       "        vertical-align: middle;\n",
       "    }\n",
       "\n",
       "    .dataframe tbody tr th {\n",
       "        vertical-align: top;\n",
       "    }\n",
       "\n",
       "    .dataframe thead th {\n",
       "        text-align: right;\n",
       "    }\n",
       "</style>\n",
       "<table border=\"1\" class=\"dataframe\">\n",
       "  <thead>\n",
       "    <tr style=\"text-align: right;\">\n",
       "      <th></th>\n",
       "      <th>Survived</th>\n",
       "      <th>Pclass</th>\n",
       "      <th>Age</th>\n",
       "      <th>Fare</th>\n",
       "      <th>EmbarkedC</th>\n",
       "      <th>EmbarkedS</th>\n",
       "      <th>Female</th>\n",
       "      <th>SibSpYes</th>\n",
       "      <th>ParchYes</th>\n",
       "    </tr>\n",
       "  </thead>\n",
       "  <tbody>\n",
       "    <tr>\n",
       "      <th>229</th>\n",
       "      <td>1</td>\n",
       "      <td>2</td>\n",
       "      <td>42.000000</td>\n",
       "      <td>13.0</td>\n",
       "      <td>0</td>\n",
       "      <td>1</td>\n",
       "      <td>1</td>\n",
       "      <td>0</td>\n",
       "      <td>0</td>\n",
       "    </tr>\n",
       "    <tr>\n",
       "      <th>199</th>\n",
       "      <td>0</td>\n",
       "      <td>3</td>\n",
       "      <td>29.435674</td>\n",
       "      <td>14.5</td>\n",
       "      <td>0</td>\n",
       "      <td>1</td>\n",
       "      <td>0</td>\n",
       "      <td>0</td>\n",
       "      <td>0</td>\n",
       "    </tr>\n",
       "    <tr>\n",
       "      <th>127</th>\n",
       "      <td>1</td>\n",
       "      <td>2</td>\n",
       "      <td>0.670000</td>\n",
       "      <td>14.5</td>\n",
       "      <td>0</td>\n",
       "      <td>1</td>\n",
       "      <td>0</td>\n",
       "      <td>1</td>\n",
       "      <td>1</td>\n",
       "    </tr>\n",
       "    <tr>\n",
       "      <th>72</th>\n",
       "      <td>1</td>\n",
       "      <td>2</td>\n",
       "      <td>24.000000</td>\n",
       "      <td>13.0</td>\n",
       "      <td>0</td>\n",
       "      <td>1</td>\n",
       "      <td>1</td>\n",
       "      <td>0</td>\n",
       "      <td>0</td>\n",
       "    </tr>\n",
       "    <tr>\n",
       "      <th>48</th>\n",
       "      <td>1</td>\n",
       "      <td>2</td>\n",
       "      <td>2.000000</td>\n",
       "      <td>26.0</td>\n",
       "      <td>0</td>\n",
       "      <td>1</td>\n",
       "      <td>0</td>\n",
       "      <td>1</td>\n",
       "      <td>1</td>\n",
       "    </tr>\n",
       "  </tbody>\n",
       "</table>\n",
       "</div>"
      ]
     },
     "execution_count": 0,
     "metadata": {},
     "output_type": "execute_result"
    }
   ],
   "source": [
    "dataPath = 'data\\\\data_derived\\\\train1c.csv'\n",
    "data = pd.read_csv(dataPath)\n",
    "dataTPath = 'data\\\\data_derived\\\\train2c.csv'\n",
    "dataT = pd.read_csv(dataTPath)\n",
    "display(data.sample(n=5))\n",
    "display(dataT.sample(n=5))\n",
    "    "
   ]
  },
  {
   "cell_type": "markdown",
   "metadata": {},
   "source": [
    "###Logistic"
   ]
  },
  {
   "cell_type": "code",
   "execution_count": 4,
   "metadata": {},
   "outputs": [
    {
     "name": "stdout",
     "output_type": "stream",
     "text": [
      "****** LOGISTIC ******\n\n-----Train and Test Sets-----\nSample Size (Train / Test): 623 / 268\nSurvived Rate (Train / Test): 0.37 / 0.41\n\n-----Coefficients-----\nPclass      -0.79\nAge         -0.42\nFare         0.06\nEmbarkedC    0.00\nEmbarkedS   -0.10\nFemale       1.29\nSibSpYes    -0.02\nParchYes    -0.02\ndtype: float64\n\n-----Performance-----\naccuracy\t (IS / CV / OOS): 0.78 / 0.78 / 0.79\naccproba\t (IS / CV / OOS): 0.68 / 0.68 / 0.69\nlogproba\t (IS / CV / OOS): -0.49 / -0.50 / -0.49\naucproba\t (IS / CV / OOS): 0.85 / 0.85 / 0.85\nrecall\t (IS / CV / OOS): 0.79 / 0.78 / 0.81\nprecision\t (IS / CV / OOS): 0.68 / 0.67 / 0.72\n\n-----Confusion (IS)-----\n   0-pred  1-pred\n0    0.49    0.14\n1    0.08    0.29\n-----Confusion (OOS)-----\n   0-pred  1-pred\n0    0.46    0.13\n1    0.08    0.33\n\n"
     ]
    }
   ],
   "source": [
    "modelLR = mdl.Logistic(fit_intercept=False, scale=True, C=10)\n",
    "modelLR.fit(data)\n",
    "modelLR.predict(dataT)\n",
    "modelLR.printSummary()\n",
    "modelLR.plotROC()\n"
   ]
  },
  {
   "cell_type": "markdown",
   "metadata": {},
   "source": [
    "###Logistic Ridge"
   ]
  },
  {
   "cell_type": "code",
   "execution_count": 5,
   "metadata": {},
   "outputs": [
    {
     "name": "stdout",
     "output_type": "stream",
     "text": [
      "****** LOGISTIC RIDGE ******\n\n-----Train and Test Sets-----\nSample Size (Train / Test): 623 / 268\nSurvived Rate (Train / Test): 0.37 / 0.41\n\n-----Coefficients-----\nPclass      -0.74\nAge         -0.39\nFare         0.08\nEmbarkedC    0.01\nEmbarkedS   -0.09\nFemale       1.24\nSibSpYes    -0.02\nParchYes    -0.01\ndtype: float64\n\n-----Ridge CV multiplier-----\nRidge Multiplier = 0.37\n\n"
     ]
    },
    {
     "name": "stdout",
     "output_type": "stream",
     "text": [
      "-----Performance-----\naccuracy\t (IS / CV / OOS): 0.78 / 0.78 / 0.79\naccproba\t (IS / CV / OOS): 0.68 / 0.68 / 0.68\nlogproba\t (IS / CV / OOS): -0.49 / -0.50 / -0.49\naucproba\t (IS / CV / OOS): 0.85 / 0.85 / 0.85\nrecall\t (IS / CV / OOS): 0.79 / 0.78 / 0.81\nprecision\t (IS / CV / OOS): 0.68 / 0.68 / 0.72\n\n-----Confusion (IS)-----\n   0-pred  1-pred\n0    0.49    0.14\n1    0.08    0.29\n-----Confusion (OOS)-----\n   0-pred  1-pred\n0    0.46    0.13\n1    0.08    0.33\n\n"
     ]
    }
   ],
   "source": [
    "modelLRRidge = mdl.LogisticRidge(fit_intercept=False, scale=True, Cs=np.exp(np.arange(-5,6,1)))\n",
    "modelLRRidge.fit(data)\n",
    "modelLRRidge.predict(dataT)\n",
    "modelLRRidge.printSummary()\n",
    "modelLRRidge.plotROC()"
   ]
  },
  {
   "cell_type": "markdown",
   "metadata": {},
   "source": [
    "###Logistic Best Subset"
   ]
  },
  {
   "cell_type": "code",
   "execution_count": 6,
   "metadata": {},
   "outputs": [
    {
     "name": "stdout",
     "output_type": "stream",
     "text": [
      "****** LOGISTIC KBEST ******\n\n-----Train and Test Sets-----\nSample Size (Train / Test): 623 / 268\nSurvived Rate (Train / Test): 0.37 / 0.41\n\n-----Coefficients-----\nPclass      -0.59\nFare         0.09\nEmbarkedC    0.08\nFemale       1.27\nParchYes     0.07\ndtype: float64\n\n-----Performance-----\naccuracy\t (IS / CV / OOS): 0.77 / 0.76 / 0.77\naccproba\t (IS / CV / OOS): 0.67 / 0.67 / 0.68\nlogproba\t (IS / CV / OOS): -0.50 / -0.51 / -0.50\naucproba\t (IS / CV / OOS): 0.84 / 0.84 / 0.84\nrecall\t (IS / CV / OOS): 0.75 / 0.75 / 0.76\nprecision\t (IS / CV / OOS): 0.67 / 0.66 / 0.70\n\n-----Confusion (IS)-----\n   0-pred  1-pred\n0    0.49    0.13\n1    0.09    0.28\n-----Confusion (OOS)-----\n   0-pred  1-pred\n0    0.46    0.13\n1    0.10    0.31\n\n"
     ]
    }
   ],
   "source": [
    "modelLRBestK = mdl.LogisticBestSubset(fit_intercept=False, scale=True, k=5)\n",
    "modelLRBestK.fit(data)\n",
    "modelLRBestK.predict(dataT)\n",
    "modelLRBestK.printSummary()\n",
    "modelLRBestK.plotROC()"
   ]
  },
  {
   "cell_type": "markdown",
   "metadata": {},
   "source": [
    "###KNN"
   ]
  },
  {
   "cell_type": "code",
   "execution_count": null,
   "metadata": {},
   "outputs": [
    {
     "name": "stdout",
     "output_type": "stream",
     "text": [
      "****** KNN ******\n\n-----Train and Test Sets-----\nSample Size (Train / Test): 623 / 268\nSurvived Rate (Train / Test): 0.37 / 0.41\n\n-----Performance-----\naccuracy\t (IS / CV / OOS): 0.82 / 0.79 / 0.80\naccproba\t (IS / CV / OOS): 0.75 / 0.71 / 0.73\nlogproba\t (IS / CV / OOS): -0.38 / -1.08 / -1.40\naucproba\t (IS / CV / OOS): 0.89 / 0.84 / 0.85\nrecall\t (IS / CV / OOS): 0.65 / 0.64 / 0.71\nprecision\t (IS / CV / OOS): 0.84 / 0.78 / 0.79\n\n-----Confusion (IS)-----\n   0-pred  1-pred\n0    0.58    0.05\n1    0.13    0.24\n-----Confusion (OOS)-----\n   0-pred  1-pred\n0    0.51    0.08\n1    0.12    0.29\n\n"
     ]
    }
   ],
   "source": [
    "modelKNN = mdl.KNN(scale=True, n_neighbors=10, weights='uniform')\n",
    "modelKNN.fit(data)\n",
    "modelKNN.predict(dataT)\n",
    "modelKNN.printSummary()\n",
    "modelKNN.plotROC()"
   ]
  },
  {
   "cell_type": "markdown",
   "metadata": {},
   "source": [
    "###Decision Trees"
   ]
  },
  {
   "cell_type": "code",
   "execution_count": 35,
   "metadata": {},
   "outputs": [
    {
     "name": "stdout",
     "output_type": "stream",
     "text": [
      "****** DECISION TREE ******\n\n-----Train and Test Sets-----\nSample Size (Train / Test): 623 / 268\nSurvived Rate (Train / Test): 0.37 / 0.41\n\n-----Performance-----\naccuracy\t (IS / CV / OOS): 0.82 / 0.77 / 0.83\naccproba\t (IS / CV / OOS): 0.72 / 0.70 / 0.73\nlogproba\t (IS / CV / OOS): -0.43 / -0.62 / -0.54\naucproba\t (IS / CV / OOS): 0.87 / 0.85 / 0.86\nrecall\t (IS / CV / OOS): 0.70 / 0.74 / 0.74\nprecision\t (IS / CV / OOS): 0.80 / 0.70 / 0.82\n\n-----Confusion (IS)-----\n   0-pred  1-pred\n0    0.56    0.07\n1    0.11    0.26\n-----Confusion (OOS)-----\n   0-pred  1-pred\n0    0.53    0.07\n1    0.10    0.30\n\n"
     ]
    }
   ],
   "source": [
    "modelTree = mdl.Tree(scale=True, max_depth=3, class_weight='balanced', random_state=1)\n",
    "modelTree.fit(data)\n",
    "modelTree.predict(dataT)\n",
    "modelTree.printSummary()\n",
    "modelTree.plotROC()\n",
    "modelTree.visualizeTree()"
   ]
  },
  {
   "cell_type": "code",
   "execution_count": null,
   "metadata": {},
   "outputs": [],
   "source": []
  }
 ],
 "metadata": {
  "kernelspec": {
   "display_name": "Python 2",
   "language": "python",
   "name": "python2"
  },
  "language_info": {
   "codemirror_mode": {
    "name": "ipython",
    "version": 2
   },
   "file_extension": ".py",
   "mimetype": "text/x-python",
   "name": "python",
   "nbconvert_exporter": "python",
   "pygments_lexer": "ipython2",
   "version": "2.7.6"
  }
 },
 "nbformat": 4,
 "nbformat_minor": 0
}
