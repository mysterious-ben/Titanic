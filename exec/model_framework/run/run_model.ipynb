{
 "cells": [
  {
   "cell_type": "markdown",
   "metadata": {
    "collapsed": true
   },
   "source": [
    "##Run Classifier"
   ]
  },
  {
   "cell_type": "code",
   "execution_count": 11,
   "metadata": {},
   "outputs": [],
   "source": [
    "% matplotlib qt\n",
    "\n",
    "import numpy as np\n",
    "import pandas as pd\n",
    "import matplotlib.pyplot as plt\n",
    "from IPython.display import display\n",
    "import exec.model_framework.model as mdl\n",
    "from utils.utilgen import viewdf\n",
    "\n",
    "% reload_ext autoreload\n",
    "% autoreload 2\n"
   ]
  },
  {
   "cell_type": "markdown",
   "metadata": {},
   "source": [
    "###Data"
   ]
  },
  {
   "cell_type": "code",
   "execution_count": 12,
   "metadata": {},
   "outputs": [
    {
     "data": {
      "text/html": [
       "<div>\n",
       "<style scoped>\n",
       "    .dataframe tbody tr th:only-of-type {\n",
       "        vertical-align: middle;\n",
       "    }\n",
       "\n",
       "    .dataframe tbody tr th {\n",
       "        vertical-align: top;\n",
       "    }\n",
       "\n",
       "    .dataframe thead th {\n",
       "        text-align: right;\n",
       "    }\n",
       "</style>\n",
       "<table border=\"1\" class=\"dataframe\">\n",
       "  <thead>\n",
       "    <tr style=\"text-align: right;\">\n",
       "      <th></th>\n",
       "      <th>Survived</th>\n",
       "      <th>Pclass</th>\n",
       "      <th>Age</th>\n",
       "      <th>Fare</th>\n",
       "      <th>EmbarkedC</th>\n",
       "      <th>EmbarkedS</th>\n",
       "      <th>Female</th>\n",
       "      <th>SibSpYes</th>\n",
       "      <th>ParchYes</th>\n",
       "    </tr>\n",
       "  </thead>\n",
       "  <tbody>\n",
       "    <tr>\n",
       "      <th>215</th>\n",
       "      <td>0</td>\n",
       "      <td>2</td>\n",
       "      <td>47.00</td>\n",
       "      <td>15.00</td>\n",
       "      <td>0</td>\n",
       "      <td>1</td>\n",
       "      <td>0</td>\n",
       "      <td>0</td>\n",
       "      <td>0</td>\n",
       "    </tr>\n",
       "    <tr>\n",
       "      <th>13</th>\n",
       "      <td>1</td>\n",
       "      <td>2</td>\n",
       "      <td>50.00</td>\n",
       "      <td>10.50</td>\n",
       "      <td>0</td>\n",
       "      <td>1</td>\n",
       "      <td>1</td>\n",
       "      <td>0</td>\n",
       "      <td>0</td>\n",
       "    </tr>\n",
       "    <tr>\n",
       "      <th>320</th>\n",
       "      <td>0</td>\n",
       "      <td>3</td>\n",
       "      <td>44.00</td>\n",
       "      <td>16.10</td>\n",
       "      <td>0</td>\n",
       "      <td>1</td>\n",
       "      <td>0</td>\n",
       "      <td>0</td>\n",
       "      <td>1</td>\n",
       "    </tr>\n",
       "    <tr>\n",
       "      <th>63</th>\n",
       "      <td>1</td>\n",
       "      <td>2</td>\n",
       "      <td>34.00</td>\n",
       "      <td>23.00</td>\n",
       "      <td>0</td>\n",
       "      <td>1</td>\n",
       "      <td>1</td>\n",
       "      <td>0</td>\n",
       "      <td>1</td>\n",
       "    </tr>\n",
       "    <tr>\n",
       "      <th>25</th>\n",
       "      <td>1</td>\n",
       "      <td>1</td>\n",
       "      <td>23.00</td>\n",
       "      <td>187.67</td>\n",
       "      <td>0</td>\n",
       "      <td>1</td>\n",
       "      <td>1</td>\n",
       "      <td>1</td>\n",
       "      <td>1</td>\n",
       "    </tr>\n",
       "  </tbody>\n",
       "</table>\n",
       "</div>"
      ],
      "text/plain": [
       "<div>\n",
       "<style scoped>\n",
       "    .dataframe tbody tr th:only-of-type {\n",
       "        vertical-align: middle;\n",
       "    }\n",
       "\n",
       "    .dataframe tbody tr th {\n",
       "        vertical-align: top;\n",
       "    }\n",
       "\n",
       "    .dataframe thead th {\n",
       "        text-align: right;\n",
       "    }\n",
       "</style>\n",
       "<table border=\"1\" class=\"dataframe\">\n",
       "  <thead>\n",
       "    <tr style=\"text-align: right;\">\n",
       "      <th></th>\n",
       "      <th>Survived</th>\n",
       "      <th>Pclass</th>\n",
       "      <th>Age</th>\n",
       "      <th>Fare</th>\n",
       "      <th>EmbarkedC</th>\n",
       "      <th>EmbarkedS</th>\n",
       "      <th>Female</th>\n",
       "      <th>SibSpYes</th>\n",
       "      <th>ParchYes</th>\n",
       "    </tr>\n",
       "  </thead>\n",
       "  <tbody>\n",
       "    <tr>\n",
       "      <th>215</th>\n",
       "      <td>0</td>\n",
       "      <td>2</td>\n",
       "      <td>47.00</td>\n",
       "      <td>15.00</td>\n",
       "      <td>0</td>\n",
       "      <td>1</td>\n",
       "      <td>0</td>\n",
       "      <td>0</td>\n",
       "      <td>0</td>\n",
       "    </tr>\n",
       "    <tr>\n",
       "      <th>13</th>\n",
       "      <td>1</td>\n",
       "      <td>2</td>\n",
       "      <td>50.00</td>\n",
       "      <td>10.50</td>\n",
       "      <td>0</td>\n",
       "      <td>1</td>\n",
       "      <td>1</td>\n",
       "      <td>0</td>\n",
       "      <td>0</td>\n",
       "    </tr>\n",
       "    <tr>\n",
       "      <th>320</th>\n",
       "      <td>0</td>\n",
       "      <td>3</td>\n",
       "      <td>44.00</td>\n",
       "      <td>16.10</td>\n",
       "      <td>0</td>\n",
       "      <td>1</td>\n",
       "      <td>0</td>\n",
       "      <td>0</td>\n",
       "      <td>1</td>\n",
       "    </tr>\n",
       "    <tr>\n",
       "      <th>63</th>\n",
       "      <td>1</td>\n",
       "      <td>2</td>\n",
       "      <td>34.00</td>\n",
       "      <td>23.00</td>\n",
       "      <td>0</td>\n",
       "      <td>1</td>\n",
       "      <td>1</td>\n",
       "      <td>0</td>\n",
       "      <td>1</td>\n",
       "    </tr>\n",
       "    <tr>\n",
       "      <th>25</th>\n",
       "      <td>1</td>\n",
       "      <td>1</td>\n",
       "      <td>23.00</td>\n",
       "      <td>187.67</td>\n",
       "      <td>0</td>\n",
       "      <td>1</td>\n",
       "      <td>1</td>\n",
       "      <td>1</td>\n",
       "      <td>1</td>\n",
       "    </tr>\n",
       "  </tbody>\n",
       "</table>\n",
       "</div>"
      ]
     },
     "execution_count": 0,
     "metadata": {},
     "output_type": "execute_result"
    },
    {
     "data": {
      "text/html": [
       "<div>\n",
       "<style scoped>\n",
       "    .dataframe tbody tr th:only-of-type {\n",
       "        vertical-align: middle;\n",
       "    }\n",
       "\n",
       "    .dataframe tbody tr th {\n",
       "        vertical-align: top;\n",
       "    }\n",
       "\n",
       "    .dataframe thead th {\n",
       "        text-align: right;\n",
       "    }\n",
       "</style>\n",
       "<table border=\"1\" class=\"dataframe\">\n",
       "  <thead>\n",
       "    <tr style=\"text-align: right;\">\n",
       "      <th></th>\n",
       "      <th>Survived</th>\n",
       "      <th>Pclass</th>\n",
       "      <th>Age</th>\n",
       "      <th>Fare</th>\n",
       "      <th>EmbarkedC</th>\n",
       "      <th>EmbarkedS</th>\n",
       "      <th>Female</th>\n",
       "      <th>SibSpYes</th>\n",
       "      <th>ParchYes</th>\n",
       "    </tr>\n",
       "  </thead>\n",
       "  <tbody>\n",
       "    <tr>\n",
       "      <th>95</th>\n",
       "      <td>0</td>\n",
       "      <td>3</td>\n",
       "      <td>29.44</td>\n",
       "      <td>7.90</td>\n",
       "      <td>1</td>\n",
       "      <td>0</td>\n",
       "      <td>0</td>\n",
       "      <td>0</td>\n",
       "      <td>0</td>\n",
       "    </tr>\n",
       "    <tr>\n",
       "      <th>101</th>\n",
       "      <td>0</td>\n",
       "      <td>3</td>\n",
       "      <td>29.44</td>\n",
       "      <td>7.75</td>\n",
       "      <td>0</td>\n",
       "      <td>0</td>\n",
       "      <td>0</td>\n",
       "      <td>0</td>\n",
       "      <td>0</td>\n",
       "    </tr>\n",
       "    <tr>\n",
       "      <th>27</th>\n",
       "      <td>0</td>\n",
       "      <td>3</td>\n",
       "      <td>28.00</td>\n",
       "      <td>56.50</td>\n",
       "      <td>0</td>\n",
       "      <td>1</td>\n",
       "      <td>0</td>\n",
       "      <td>0</td>\n",
       "      <td>0</td>\n",
       "    </tr>\n",
       "    <tr>\n",
       "      <th>67</th>\n",
       "      <td>0</td>\n",
       "      <td>3</td>\n",
       "      <td>24.00</td>\n",
       "      <td>7.05</td>\n",
       "      <td>0</td>\n",
       "      <td>1</td>\n",
       "      <td>0</td>\n",
       "      <td>0</td>\n",
       "      <td>0</td>\n",
       "    </tr>\n",
       "    <tr>\n",
       "      <th>226</th>\n",
       "      <td>1</td>\n",
       "      <td>1</td>\n",
       "      <td>29.44</td>\n",
       "      <td>26.55</td>\n",
       "      <td>0</td>\n",
       "      <td>1</td>\n",
       "      <td>0</td>\n",
       "      <td>0</td>\n",
       "      <td>0</td>\n",
       "    </tr>\n",
       "  </tbody>\n",
       "</table>\n",
       "</div>"
      ],
      "text/plain": [
       "<div>\n",
       "<style scoped>\n",
       "    .dataframe tbody tr th:only-of-type {\n",
       "        vertical-align: middle;\n",
       "    }\n",
       "\n",
       "    .dataframe tbody tr th {\n",
       "        vertical-align: top;\n",
       "    }\n",
       "\n",
       "    .dataframe thead th {\n",
       "        text-align: right;\n",
       "    }\n",
       "</style>\n",
       "<table border=\"1\" class=\"dataframe\">\n",
       "  <thead>\n",
       "    <tr style=\"text-align: right;\">\n",
       "      <th></th>\n",
       "      <th>Survived</th>\n",
       "      <th>Pclass</th>\n",
       "      <th>Age</th>\n",
       "      <th>Fare</th>\n",
       "      <th>EmbarkedC</th>\n",
       "      <th>EmbarkedS</th>\n",
       "      <th>Female</th>\n",
       "      <th>SibSpYes</th>\n",
       "      <th>ParchYes</th>\n",
       "    </tr>\n",
       "  </thead>\n",
       "  <tbody>\n",
       "    <tr>\n",
       "      <th>95</th>\n",
       "      <td>0</td>\n",
       "      <td>3</td>\n",
       "      <td>29.44</td>\n",
       "      <td>7.90</td>\n",
       "      <td>1</td>\n",
       "      <td>0</td>\n",
       "      <td>0</td>\n",
       "      <td>0</td>\n",
       "      <td>0</td>\n",
       "    </tr>\n",
       "    <tr>\n",
       "      <th>101</th>\n",
       "      <td>0</td>\n",
       "      <td>3</td>\n",
       "      <td>29.44</td>\n",
       "      <td>7.75</td>\n",
       "      <td>0</td>\n",
       "      <td>0</td>\n",
       "      <td>0</td>\n",
       "      <td>0</td>\n",
       "      <td>0</td>\n",
       "    </tr>\n",
       "    <tr>\n",
       "      <th>27</th>\n",
       "      <td>0</td>\n",
       "      <td>3</td>\n",
       "      <td>28.00</td>\n",
       "      <td>56.50</td>\n",
       "      <td>0</td>\n",
       "      <td>1</td>\n",
       "      <td>0</td>\n",
       "      <td>0</td>\n",
       "      <td>0</td>\n",
       "    </tr>\n",
       "    <tr>\n",
       "      <th>67</th>\n",
       "      <td>0</td>\n",
       "      <td>3</td>\n",
       "      <td>24.00</td>\n",
       "      <td>7.05</td>\n",
       "      <td>0</td>\n",
       "      <td>1</td>\n",
       "      <td>0</td>\n",
       "      <td>0</td>\n",
       "      <td>0</td>\n",
       "    </tr>\n",
       "    <tr>\n",
       "      <th>226</th>\n",
       "      <td>1</td>\n",
       "      <td>1</td>\n",
       "      <td>29.44</td>\n",
       "      <td>26.55</td>\n",
       "      <td>0</td>\n",
       "      <td>1</td>\n",
       "      <td>0</td>\n",
       "      <td>0</td>\n",
       "      <td>0</td>\n",
       "    </tr>\n",
       "  </tbody>\n",
       "</table>\n",
       "</div>"
      ]
     },
     "execution_count": 0,
     "metadata": {},
     "output_type": "execute_result"
    }
   ],
   "source": [
    "dataPath = 'data\\\\data_derived\\\\train1c.csv'\n",
    "data = pd.read_csv(dataPath)\n",
    "dataTPath = 'data\\\\data_derived\\\\train2c.csv'\n",
    "dataT = pd.read_csv(dataTPath)\n",
    "display(data.sample(n=5))\n",
    "display(dataT.sample(n=5))\n",
    "    "
   ]
  },
  {
   "cell_type": "markdown",
   "metadata": {},
   "source": [
    "###Logistic"
   ]
  },
  {
   "cell_type": "code",
   "execution_count": 4,
   "metadata": {},
   "outputs": [
    {
     "name": "stdout",
     "output_type": "stream",
     "text": [
      "****** LOGISTIC ******\n\n-----Train and Test Sets-----\nSample Size (Train / Test): 623 / 268\nSurvived Rate (Train / Test): 0.37 / 0.41\n\n-----Coefficients-----\nPclass      -0.787553\nAge         -0.420271\nFare         0.063673\nEmbarkedC    0.004882\nEmbarkedS   -0.099278\nFemale       1.286978\nSibSpYes    -0.020813\nParchYes    -0.020344\ndtype: float64\n\n-----Performance-----\naccuracy\t (IS / CV / OOS): 0.78 / 0.78 / 0.79\naccproba\t (IS / CV / OOS): 0.68 / 0.68 / 0.69\nlogproba\t (IS / CV / OOS): -0.49 / -0.50 / -0.49\naucproba\t (IS / CV / OOS): 0.85 / 0.85 / 0.85\nrecall\t (IS / CV / OOS): 0.79 / 0.78 / 0.81\nprecision\t (IS / CV / OOS): 0.68 / 0.67 / 0.72\n\n-----Confusion (IS)-----\n   0-pred  1-pred\n0    0.49    0.14\n1    0.08    0.29\n-----Confusion (OOS)-----\n   0-pred  1-pred\n0    0.46    0.13\n1    0.08    0.33\n\n"
     ]
    }
   ],
   "source": [
    "modelLR = mdl.Logistic(fit_intercept=False, scale=True, C=10)\n",
    "modelLR.fit(data)\n",
    "modelLR.predict(dataT)\n",
    "modelLR.printSummary()\n",
    "modelLR.plotROC()\n"
   ]
  },
  {
   "cell_type": "markdown",
   "metadata": {},
   "source": [
    "###Logistic Ridge"
   ]
  },
  {
   "cell_type": "code",
   "execution_count": 29,
   "metadata": {},
   "outputs": [
    {
     "name": "stdout",
     "output_type": "stream",
     "text": [
      "****** LOGISTIC RIDGE ******\n\n-----Train and Test Sets-----\nSample Size (Train / Test): 623 / 268\nSurvived Rate (Train / Test): 0.37 / 0.41\n\n-----Coefficients-----\nPclass      -0.74\nAge         -0.39\nFare         0.08\nEmbarkedC    0.01\nEmbarkedS   -0.09\nFemale       1.24\nSibSpYes    -0.02\nParchYes    -0.01\ndtype: float64\n\n-----Ridge CV multiplier-----\nRidge Multiplier = 0.37\n\n"
     ]
    },
    {
     "name": "stdout",
     "output_type": "stream",
     "text": [
      "-----Performance-----\naccuracy\t (IS / CV / OOS): 0.78 / 0.78 / 0.79\naccproba\t (IS / CV / OOS): 0.68 / 0.68 / 0.68\nlogproba\t (IS / CV / OOS): -0.49 / -0.50 / -0.49\naucproba\t (IS / CV / OOS): 0.85 / 0.85 / 0.85\nrecall\t (IS / CV / OOS): 0.79 / 0.78 / 0.81\nprecision\t (IS / CV / OOS): 0.68 / 0.68 / 0.72\n\n-----Confusion (IS)-----\n   0-pred  1-pred\n0    0.49    0.14\n1    0.08    0.29\n-----Confusion (OOS)-----\n   0-pred  1-pred\n0    0.46    0.13\n1    0.08    0.33\n\n"
     ]
    }
   ],
   "source": [
    "modelLRRidgeCV = mdl.LogisticRidgeCV(fit_intercept=False, scale=True, Cs=np.exp(np.arange(-5, 6, 1)))\n",
    "modelLRRidgeCV.fit(data)\n",
    "modelLRRidgeCV.predict(dataT)\n",
    "modelLRRidgeCV.printSummary()\n",
    "modelLRRidgeCV.plotROC()"
   ]
  },
  {
   "cell_type": "markdown",
   "metadata": {},
   "source": [
    "###Logistic Best Subset"
   ]
  },
  {
   "cell_type": "code",
   "execution_count": 9,
   "metadata": {},
   "outputs": [
    {
     "name": "stdout",
     "output_type": "stream",
     "text": [
      "****** LOGISTIC KBEST ******\n\n-----Train and Test Sets-----\nSample Size (Train / Test): 623 / 268\nSurvived Rate (Train / Test): 0.37 / 0.41\n\n-----Coefficients-----\nPclass      -0.59\nFare         0.09\nEmbarkedC    0.08\nFemale       1.27\nParchYes     0.07\ndtype: float64\n\n-----Performance-----\naccuracy\t (IS / CV / OOS): 0.77 / 0.76 / 0.77\naccproba\t (IS / CV / OOS): 0.67 / 0.67 / 0.68\nlogproba\t (IS / CV / OOS): -0.50 / -0.51 / -0.50\naucproba\t (IS / CV / OOS): 0.84 / 0.84 / 0.84\nrecall\t (IS / CV / OOS): 0.75 / 0.75 / 0.76\nprecision\t (IS / CV / OOS): 0.67 / 0.66 / 0.70\n\n-----Confusion (IS)-----\n   0-pred  1-pred\n0    0.49    0.13\n1    0.09    0.28\n-----Confusion (OOS)-----\n   0-pred  1-pred\n0    0.46    0.13\n1    0.10    0.31\n\n"
     ]
    }
   ],
   "source": [
    "modelLRBestK = mdl.LogisticBestSubset(fit_intercept=False, scale=True, k=5)\n",
    "modelLRBestK.fit(data)\n",
    "modelLRBestK.predict(dataT)\n",
    "modelLRBestK.printSummary()\n",
    "modelLRBestK.plotROC()"
   ]
  },
  {
   "cell_type": "markdown",
   "metadata": {},
   "source": [
    "###Logistic GAM"
   ]
  },
  {
   "cell_type": "code",
   "execution_count": 6,
   "metadata": {},
   "outputs": [
    {
     "name": "stdout",
     "output_type": "stream",
     "text": [
      "****** LOGISTIC GAM ******\n\n-----Train and Test Sets-----\nSample Size (Train / Test): 623 / 268\nSurvived Rate (Train / Test): 0.37 / 0.41\n\n-----Statistics-----\nFeature Function   Data Type      Num Splines   Spline Order  Linear Fit  Lambda     P > x      Sig. Code \n================== ============== ============= ============= =========== ========== ========== ==========\nPclass_________    numerical      15            3             False       5.0        1.61e-04   ***       \nAge____________    numerical      15            3             False       5.0        3.16e-03   **        \nFare___________    numerical      15            3             False       5.0        3.09e-02   *         \nEmbarkedC______    numerical      15            3             False       5.0        1.00e+00             \nEmbarkedS______    numerical      15            3             False       5.0        7.28e-01             \nFemale_________    numerical      15            3             False       5.0        0.00e+00   ***       \nSibSpYes_______    numerical      15            3             False       5.0        5.30e-01             \nParchYes_______    numerical      15            3             False       5.0        5.26e-01             \n==========================================================================================================\nSignificance codes:  0 '***' 0.001 '**' 0.01 '*' 0.05 '.' 0.1 ' ' 1\n\n"
     ]
    },
    {
     "name": "stdout",
     "output_type": "stream",
     "text": [
      "-----Performance-----\naccuracy\t (IS / CV / OOS): 0.82 / 0.80 / 0.78\naccproba\t (IS / CV / OOS): 0.72 / 0.72 / 0.72\nlogproba\t (IS / CV / OOS): -0.43 / -0.46 / -0.46\naucproba\t (IS / CV / OOS): 0.86 / 0.85 / 0.85\nrecall\t (IS / CV / OOS): 0.70 / 0.71 / 0.72\nprecision\t (IS / CV / OOS): 0.78 / 0.76 / 0.74\n\n-----Confusion (IS)-----\n   0-pred  1-pred\n0    0.55    0.07\n1    0.11    0.26\n-----Confusion (OOS)-----\n   0-pred  1-pred\n0    0.49    0.10\n1    0.11    0.29\n\n"
     ]
    }
   ],
   "source": [
    "modelGAM = mdl.LogisticGAM(scale=True, fit_intercept=False, n_splines=15, lam=5)\n",
    "modelGAM.fit(data)\n",
    "modelGAM.predict(dataT)\n",
    "modelGAM.printSummary()\n",
    "modelGAM.plotROC()\n",
    "modelGAM.plotFeatureFit()"
   ]
  },
  {
   "cell_type": "markdown",
   "metadata": {},
   "source": [
    "###Logistic Local (Linear Proxy)"
   ]
  },
  {
   "cell_type": "code",
   "execution_count": 45,
   "metadata": {},
   "outputs": [
    {
     "name": "stdout",
     "output_type": "stream",
     "text": [
      "****** LOGISTIC LOCAL (LINEAR PROXY) ******\n\n-----Train and Test Sets-----\nSample Size (Train / Test): 623 / 268\nSurvived Rate (Train / Test): 0.37 / 0.41\n\n"
     ]
    },
    {
     "name": "stdout",
     "output_type": "stream",
     "text": [
      "-----Performance-----\naccuracy\t (IS / CV / OOS): 0.88 / 0.81 / 0.82\naccproba\t (IS / CV / OOS): 0.64 / 0.61 / 0.62\nlogproba\t (IS / CV / OOS): -0.46 / -0.53 / -0.50\naucproba\t (IS / CV / OOS): 0.93 / 0.83 / 0.87\nrecall\t (IS / CV / OOS): 0.77 / 0.68 / 0.73\nprecision\t (IS / CV / OOS): 0.90 / 0.78 / 0.80\n\n-----Confusion (IS)-----\n   0-pred  1-pred\n0    0.59    0.03\n1    0.09    0.29\n-----Confusion (OOS)-----\n   0-pred  1-pred\n0    0.52    0.07\n1    0.11    0.30\n\n"
     ]
    }
   ],
   "source": [
    "modelLRLocal = mdl.LogisticLinearLocal(scale=True, reg_type='ll', bw=1.)\n",
    "modelLRLocal.fit(data)\n",
    "modelLRLocal.predict(dataT)\n",
    "modelLRLocal.printSummary()\n",
    "modelLRLocal.plotROC()"
   ]
  },
  {
   "cell_type": "markdown",
   "metadata": {},
   "source": [
    "###Logistic Bayesian"
   ]
  },
  {
   "cell_type": "code",
   "execution_count": 55,
   "metadata": {},
   "outputs": [
    {
     "name": "stderr",
     "output_type": "stream",
     "text": [
      "INFO (theano.gof.compilelock): Refreshing lock C:\\Users\\NamelessOne\\AppData\\Local\\Theano\\compiledir_Windows-10-10.0.16299-SP0-Intel64_Family_6_Model_58_Stepping_9_GenuineIntel-3.6.5-64\\lock_dir\\lock\n"
     ]
    },
    {
     "ename": "ImportError",
     "evalue": "DLL load failed: A dynamic link library (DLL) initialization routine failed.",
     "traceback": [
      "\u001b[1;31m---------------------------------------------------------------------------\u001b[0m",
      "\u001b[1;31mImportError\u001b[0m                               Traceback (most recent call last)",
      "\u001b[1;32m<ipython-input-55-6a63ace79fd0>\u001b[0m in \u001b[0;36m<module>\u001b[1;34m()\u001b[0m\n\u001b[0;32m      1\u001b[0m \u001b[0mmodel\u001b[0m \u001b[1;33m=\u001b[0m \u001b[0mmdl\u001b[0m\u001b[1;33m.\u001b[0m\u001b[0m_LogisticBayesianSklearn\u001b[0m\u001b[1;33m(\u001b[0m\u001b[1;33m)\u001b[0m\u001b[1;33m\u001b[0m\u001b[0m\n\u001b[1;32m----> 2\u001b[1;33m \u001b[0mmodel\u001b[0m\u001b[1;33m.\u001b[0m\u001b[0mfit\u001b[0m\u001b[1;33m(\u001b[0m\u001b[0mX\u001b[0m\u001b[1;33m=\u001b[0m\u001b[0mdata\u001b[0m\u001b[1;33m[\u001b[0m\u001b[1;33m[\u001b[0m\u001b[1;34m'Age'\u001b[0m\u001b[1;33m,\u001b[0m\u001b[1;34m'Female'\u001b[0m\u001b[1;33m]\u001b[0m\u001b[1;33m]\u001b[0m\u001b[1;33m,\u001b[0m \u001b[0my\u001b[0m\u001b[1;33m=\u001b[0m\u001b[0mdata\u001b[0m\u001b[1;33m[\u001b[0m\u001b[1;34m'Survived'\u001b[0m\u001b[1;33m]\u001b[0m\u001b[1;33m)\u001b[0m\u001b[1;33m\u001b[0m\u001b[0m\n\u001b[0m\u001b[0;32m      3\u001b[0m \u001b[0mmodel\u001b[0m\u001b[1;33m.\u001b[0m\u001b[0mdecision_function\u001b[0m\u001b[1;33m(\u001b[0m\u001b[0mX\u001b[0m\u001b[1;33m=\u001b[0m\u001b[0mdataT\u001b[0m\u001b[1;33m[\u001b[0m\u001b[1;33m[\u001b[0m\u001b[1;34m'Age'\u001b[0m\u001b[1;33m,\u001b[0m\u001b[1;34m'Female'\u001b[0m\u001b[1;33m]\u001b[0m\u001b[1;33m]\u001b[0m\u001b[1;33m)\u001b[0m\u001b[1;33m\u001b[0m\u001b[0m\n",
      "\u001b[1;32mD:\\SoftwareWork\\PythonProjects\\Titanic\\exec\\model_framework\\model.py\u001b[0m in \u001b[0;36mfit\u001b[1;34m(self, X, y)\u001b[0m\n\u001b[0;32m    637\u001b[0m         \u001b[1;31m# self.model_.Var('beta', pm.Normal(mu=0, sd=self.featuresSd))\u001b[0m\u001b[1;33m\u001b[0m\u001b[1;33m\u001b[0m\u001b[0m\n\u001b[0;32m    638\u001b[0m         \u001b[1;32mwith\u001b[0m \u001b[0mself\u001b[0m\u001b[1;33m.\u001b[0m\u001b[0mmodel_\u001b[0m\u001b[1;33m:\u001b[0m\u001b[1;33m\u001b[0m\u001b[0m\n\u001b[1;32m--> 639\u001b[1;33m             \u001b[0mbeta\u001b[0m \u001b[1;33m=\u001b[0m \u001b[0mpm\u001b[0m\u001b[1;33m.\u001b[0m\u001b[0mNormal\u001b[0m\u001b[1;33m(\u001b[0m\u001b[1;34m'beta'\u001b[0m\u001b[1;33m,\u001b[0m \u001b[0mmu\u001b[0m\u001b[1;33m=\u001b[0m\u001b[1;36m0\u001b[0m\u001b[1;33m,\u001b[0m \u001b[0msd\u001b[0m\u001b[1;33m=\u001b[0m\u001b[0mself\u001b[0m\u001b[1;33m.\u001b[0m\u001b[0mfeaturesSd\u001b[0m\u001b[1;33m,\u001b[0m \u001b[0mshape\u001b[0m\u001b[1;33m=\u001b[0m\u001b[0mself\u001b[0m\u001b[1;33m.\u001b[0m\u001b[0mnfeatures_\u001b[0m\u001b[1;33m)\u001b[0m\u001b[1;33m\u001b[0m\u001b[0m\n\u001b[0m\u001b[0;32m    640\u001b[0m             \u001b[0mmu\u001b[0m \u001b[1;33m=\u001b[0m \u001b[0mpm\u001b[0m\u001b[1;33m.\u001b[0m\u001b[0mDeterministic\u001b[0m\u001b[1;33m(\u001b[0m\u001b[1;34m'mu'\u001b[0m\u001b[1;33m,\u001b[0m \u001b[0mvar\u001b[0m\u001b[1;33m=\u001b[0m\u001b[0mpmmath\u001b[0m\u001b[1;33m.\u001b[0m\u001b[0mdot\u001b[0m\u001b[1;33m(\u001b[0m\u001b[0mbeta\u001b[0m\u001b[1;33m,\u001b[0m \u001b[0mself\u001b[0m\u001b[1;33m.\u001b[0m\u001b[0mX_shared_\u001b[0m\u001b[1;33m.\u001b[0m\u001b[0mT\u001b[0m\u001b[1;33m)\u001b[0m\u001b[1;33m)\u001b[0m\u001b[1;33m\u001b[0m\u001b[0m\n\u001b[0;32m    641\u001b[0m             \u001b[0my_obs\u001b[0m \u001b[1;33m=\u001b[0m \u001b[0mpm\u001b[0m\u001b[1;33m.\u001b[0m\u001b[0mBernoulli\u001b[0m\u001b[1;33m(\u001b[0m\u001b[1;34m'y_obs'\u001b[0m\u001b[1;33m,\u001b[0m \u001b[0mp\u001b[0m\u001b[1;33m=\u001b[0m\u001b[0mpm\u001b[0m\u001b[1;33m.\u001b[0m\u001b[0minvlogit\u001b[0m\u001b[1;33m(\u001b[0m\u001b[0mmu\u001b[0m\u001b[1;33m)\u001b[0m\u001b[1;33m,\u001b[0m \u001b[0mobserved\u001b[0m\u001b[1;33m=\u001b[0m\u001b[0mself\u001b[0m\u001b[1;33m.\u001b[0m\u001b[0my_shared_\u001b[0m\u001b[1;33m)\u001b[0m\u001b[1;33m\u001b[0m\u001b[0m\n",
      "\u001b[1;32mD:\\SoftwareWork\\PythonProjects\\Miniconda\\envs\\datascience\\lib\\site-packages\\pymc3\\distributions\\distribution.py\u001b[0m in \u001b[0;36m__new__\u001b[1;34m(cls, name, *args, **kwargs)\u001b[0m\n\u001b[0;32m     34\u001b[0m                 \u001b[1;32mraise\u001b[0m \u001b[0mTypeError\u001b[0m\u001b[1;33m(\u001b[0m\u001b[1;34m\"observed needs to be data but got: {}\"\u001b[0m\u001b[1;33m.\u001b[0m\u001b[0mformat\u001b[0m\u001b[1;33m(\u001b[0m\u001b[0mtype\u001b[0m\u001b[1;33m(\u001b[0m\u001b[0mdata\u001b[0m\u001b[1;33m)\u001b[0m\u001b[1;33m)\u001b[0m\u001b[1;33m)\u001b[0m\u001b[1;33m\u001b[0m\u001b[0m\n\u001b[0;32m     35\u001b[0m             \u001b[0mtotal_size\u001b[0m \u001b[1;33m=\u001b[0m \u001b[0mkwargs\u001b[0m\u001b[1;33m.\u001b[0m\u001b[0mpop\u001b[0m\u001b[1;33m(\u001b[0m\u001b[1;34m'total_size'\u001b[0m\u001b[1;33m,\u001b[0m \u001b[1;32mNone\u001b[0m\u001b[1;33m)\u001b[0m\u001b[1;33m\u001b[0m\u001b[0m\n\u001b[1;32m---> 36\u001b[1;33m             \u001b[0mdist\u001b[0m \u001b[1;33m=\u001b[0m \u001b[0mcls\u001b[0m\u001b[1;33m.\u001b[0m\u001b[0mdist\u001b[0m\u001b[1;33m(\u001b[0m\u001b[1;33m*\u001b[0m\u001b[0margs\u001b[0m\u001b[1;33m,\u001b[0m \u001b[1;33m**\u001b[0m\u001b[0mkwargs\u001b[0m\u001b[1;33m)\u001b[0m\u001b[1;33m\u001b[0m\u001b[0m\n\u001b[0m\u001b[0;32m     37\u001b[0m             \u001b[1;32mreturn\u001b[0m \u001b[0mmodel\u001b[0m\u001b[1;33m.\u001b[0m\u001b[0mVar\u001b[0m\u001b[1;33m(\u001b[0m\u001b[0mname\u001b[0m\u001b[1;33m,\u001b[0m \u001b[0mdist\u001b[0m\u001b[1;33m,\u001b[0m \u001b[0mdata\u001b[0m\u001b[1;33m,\u001b[0m \u001b[0mtotal_size\u001b[0m\u001b[1;33m)\u001b[0m\u001b[1;33m\u001b[0m\u001b[0m\n\u001b[0;32m     38\u001b[0m         \u001b[1;32melse\u001b[0m\u001b[1;33m:\u001b[0m\u001b[1;33m\u001b[0m\u001b[0m\n",
      "\u001b[1;32mD:\\SoftwareWork\\PythonProjects\\Miniconda\\envs\\datascience\\lib\\site-packages\\pymc3\\distributions\\distribution.py\u001b[0m in \u001b[0;36mdist\u001b[1;34m(cls, *args, **kwargs)\u001b[0m\n\u001b[0;32m     45\u001b[0m     \u001b[1;32mdef\u001b[0m \u001b[0mdist\u001b[0m\u001b[1;33m(\u001b[0m\u001b[0mcls\u001b[0m\u001b[1;33m,\u001b[0m \u001b[1;33m*\u001b[0m\u001b[0margs\u001b[0m\u001b[1;33m,\u001b[0m \u001b[1;33m**\u001b[0m\u001b[0mkwargs\u001b[0m\u001b[1;33m)\u001b[0m\u001b[1;33m:\u001b[0m\u001b[1;33m\u001b[0m\u001b[0m\n\u001b[0;32m     46\u001b[0m         \u001b[0mdist\u001b[0m \u001b[1;33m=\u001b[0m \u001b[0mobject\u001b[0m\u001b[1;33m.\u001b[0m\u001b[0m__new__\u001b[0m\u001b[1;33m(\u001b[0m\u001b[0mcls\u001b[0m\u001b[1;33m)\u001b[0m\u001b[1;33m\u001b[0m\u001b[0m\n\u001b[1;32m---> 47\u001b[1;33m         \u001b[0mdist\u001b[0m\u001b[1;33m.\u001b[0m\u001b[0m__init__\u001b[0m\u001b[1;33m(\u001b[0m\u001b[1;33m*\u001b[0m\u001b[0margs\u001b[0m\u001b[1;33m,\u001b[0m \u001b[1;33m**\u001b[0m\u001b[0mkwargs\u001b[0m\u001b[1;33m)\u001b[0m\u001b[1;33m\u001b[0m\u001b[0m\n\u001b[0m\u001b[0;32m     48\u001b[0m         \u001b[1;32mreturn\u001b[0m \u001b[0mdist\u001b[0m\u001b[1;33m\u001b[0m\u001b[0m\n\u001b[0;32m     49\u001b[0m \u001b[1;33m\u001b[0m\u001b[0m\n",
      "\u001b[1;32mD:\\SoftwareWork\\PythonProjects\\Miniconda\\envs\\datascience\\lib\\site-packages\\pymc3\\distributions\\continuous.py\u001b[0m in \u001b[0;36m__init__\u001b[1;34m(self, mu, sd, tau, **kwargs)\u001b[0m\n\u001b[0;32m    291\u001b[0m \u001b[1;33m\u001b[0m\u001b[0m\n\u001b[0;32m    292\u001b[0m         \u001b[0mself\u001b[0m\u001b[1;33m.\u001b[0m\u001b[0mmean\u001b[0m \u001b[1;33m=\u001b[0m \u001b[0mself\u001b[0m\u001b[1;33m.\u001b[0m\u001b[0mmedian\u001b[0m \u001b[1;33m=\u001b[0m \u001b[0mself\u001b[0m\u001b[1;33m.\u001b[0m\u001b[0mmode\u001b[0m \u001b[1;33m=\u001b[0m \u001b[0mself\u001b[0m\u001b[1;33m.\u001b[0m\u001b[0mmu\u001b[0m \u001b[1;33m=\u001b[0m \u001b[0mmu\u001b[0m \u001b[1;33m=\u001b[0m \u001b[0mtt\u001b[0m\u001b[1;33m.\u001b[0m\u001b[0mas_tensor_variable\u001b[0m\u001b[1;33m(\u001b[0m\u001b[0mmu\u001b[0m\u001b[1;33m)\u001b[0m\u001b[1;33m\u001b[0m\u001b[0m\n\u001b[1;32m--> 293\u001b[1;33m         \u001b[0mself\u001b[0m\u001b[1;33m.\u001b[0m\u001b[0mvariance\u001b[0m \u001b[1;33m=\u001b[0m \u001b[1;36m1.\u001b[0m \u001b[1;33m/\u001b[0m \u001b[0mself\u001b[0m\u001b[1;33m.\u001b[0m\u001b[0mtau\u001b[0m\u001b[1;33m\u001b[0m\u001b[0m\n\u001b[0m\u001b[0;32m    294\u001b[0m \u001b[1;33m\u001b[0m\u001b[0m\n\u001b[0;32m    295\u001b[0m         \u001b[0massert_negative_support\u001b[0m\u001b[1;33m(\u001b[0m\u001b[0msd\u001b[0m\u001b[1;33m,\u001b[0m \u001b[1;34m'sd'\u001b[0m\u001b[1;33m,\u001b[0m \u001b[1;34m'Normal'\u001b[0m\u001b[1;33m)\u001b[0m\u001b[1;33m\u001b[0m\u001b[0m\n",
      "\u001b[1;32mD:\\SoftwareWork\\PythonProjects\\Miniconda\\envs\\datascience\\lib\\site-packages\\theano\\tensor\\var.py\u001b[0m in \u001b[0;36m__rtruediv__\u001b[1;34m(self, other)\u001b[0m\n\u001b[0;32m    201\u001b[0m \u001b[1;33m\u001b[0m\u001b[0m\n\u001b[0;32m    202\u001b[0m     \u001b[1;32mdef\u001b[0m \u001b[0m__rtruediv__\u001b[0m\u001b[1;33m(\u001b[0m\u001b[0mself\u001b[0m\u001b[1;33m,\u001b[0m \u001b[0mother\u001b[0m\u001b[1;33m)\u001b[0m\u001b[1;33m:\u001b[0m\u001b[1;33m\u001b[0m\u001b[0m\n\u001b[1;32m--> 203\u001b[1;33m         \u001b[1;32mreturn\u001b[0m \u001b[0mtheano\u001b[0m\u001b[1;33m.\u001b[0m\u001b[0mtensor\u001b[0m\u001b[1;33m.\u001b[0m\u001b[0mbasic\u001b[0m\u001b[1;33m.\u001b[0m\u001b[0mtrue_div\u001b[0m\u001b[1;33m(\u001b[0m\u001b[0mother\u001b[0m\u001b[1;33m,\u001b[0m \u001b[0mself\u001b[0m\u001b[1;33m)\u001b[0m\u001b[1;33m\u001b[0m\u001b[0m\n\u001b[0m\u001b[0;32m    204\u001b[0m \u001b[1;33m\u001b[0m\u001b[0m\n\u001b[0;32m    205\u001b[0m     \u001b[1;32mdef\u001b[0m \u001b[0m__rfloordiv__\u001b[0m\u001b[1;33m(\u001b[0m\u001b[0mself\u001b[0m\u001b[1;33m,\u001b[0m \u001b[0mother\u001b[0m\u001b[1;33m)\u001b[0m\u001b[1;33m:\u001b[0m\u001b[1;33m\u001b[0m\u001b[0m\n",
      "\u001b[1;32mD:\\SoftwareWork\\PythonProjects\\Miniconda\\envs\\datascience\\lib\\site-packages\\theano\\gof\\op.py\u001b[0m in \u001b[0;36m__call__\u001b[1;34m(self, *inputs, **kwargs)\u001b[0m\n\u001b[0;32m    668\u001b[0m                 \u001b[1;31m# compute output value once with test inputs to validate graph\u001b[0m\u001b[1;33m\u001b[0m\u001b[1;33m\u001b[0m\u001b[0m\n\u001b[0;32m    669\u001b[0m                 thunk = node.op.make_thunk(node, storage_map, compute_map,\n\u001b[1;32m--> 670\u001b[1;33m                                            no_recycling=[])\n\u001b[0m\u001b[0;32m    671\u001b[0m                 \u001b[0mthunk\u001b[0m\u001b[1;33m.\u001b[0m\u001b[0minputs\u001b[0m \u001b[1;33m=\u001b[0m \u001b[1;33m[\u001b[0m\u001b[0mstorage_map\u001b[0m\u001b[1;33m[\u001b[0m\u001b[0mv\u001b[0m\u001b[1;33m]\u001b[0m \u001b[1;32mfor\u001b[0m \u001b[0mv\u001b[0m \u001b[1;32min\u001b[0m \u001b[0mnode\u001b[0m\u001b[1;33m.\u001b[0m\u001b[0minputs\u001b[0m\u001b[1;33m]\u001b[0m\u001b[1;33m\u001b[0m\u001b[0m\n\u001b[0;32m    672\u001b[0m                 \u001b[0mthunk\u001b[0m\u001b[1;33m.\u001b[0m\u001b[0moutputs\u001b[0m \u001b[1;33m=\u001b[0m \u001b[1;33m[\u001b[0m\u001b[0mstorage_map\u001b[0m\u001b[1;33m[\u001b[0m\u001b[0mv\u001b[0m\u001b[1;33m]\u001b[0m \u001b[1;32mfor\u001b[0m \u001b[0mv\u001b[0m \u001b[1;32min\u001b[0m \u001b[0mnode\u001b[0m\u001b[1;33m.\u001b[0m\u001b[0moutputs\u001b[0m\u001b[1;33m]\u001b[0m\u001b[1;33m\u001b[0m\u001b[0m\n",
      "\u001b[1;32mD:\\SoftwareWork\\PythonProjects\\Miniconda\\envs\\datascience\\lib\\site-packages\\theano\\gof\\op.py\u001b[0m in \u001b[0;36mmake_thunk\u001b[1;34m(self, node, storage_map, compute_map, no_recycling, impl)\u001b[0m\n\u001b[0;32m    953\u001b[0m             \u001b[1;32mtry\u001b[0m\u001b[1;33m:\u001b[0m\u001b[1;33m\u001b[0m\u001b[0m\n\u001b[0;32m    954\u001b[0m                 return self.make_c_thunk(node, storage_map, compute_map,\n\u001b[1;32m--> 955\u001b[1;33m                                          no_recycling)\n\u001b[0m\u001b[0;32m    956\u001b[0m             \u001b[1;32mexcept\u001b[0m \u001b[1;33m(\u001b[0m\u001b[0mNotImplementedError\u001b[0m\u001b[1;33m,\u001b[0m \u001b[0mutils\u001b[0m\u001b[1;33m.\u001b[0m\u001b[0mMethodNotDefined\u001b[0m\u001b[1;33m)\u001b[0m\u001b[1;33m:\u001b[0m\u001b[1;33m\u001b[0m\u001b[0m\n\u001b[0;32m    957\u001b[0m                 \u001b[1;31m# We requested the c code, so don't catch the error.\u001b[0m\u001b[1;33m\u001b[0m\u001b[1;33m\u001b[0m\u001b[0m\n",
      "\u001b[1;32mD:\\SoftwareWork\\PythonProjects\\Miniconda\\envs\\datascience\\lib\\site-packages\\theano\\gof\\op.py\u001b[0m in \u001b[0;36mmake_c_thunk\u001b[1;34m(self, node, storage_map, compute_map, no_recycling)\u001b[0m\n\u001b[0;32m    856\u001b[0m         \u001b[0m_logger\u001b[0m\u001b[1;33m.\u001b[0m\u001b[0mdebug\u001b[0m\u001b[1;33m(\u001b[0m\u001b[1;34m'Trying CLinker.make_thunk'\u001b[0m\u001b[1;33m)\u001b[0m\u001b[1;33m\u001b[0m\u001b[0m\n\u001b[0;32m    857\u001b[0m         outputs = cl.make_thunk(input_storage=node_input_storage,\n\u001b[1;32m--> 858\u001b[1;33m                                 output_storage=node_output_storage)\n\u001b[0m\u001b[0;32m    859\u001b[0m         \u001b[0mthunk\u001b[0m\u001b[1;33m,\u001b[0m \u001b[0mnode_input_filters\u001b[0m\u001b[1;33m,\u001b[0m \u001b[0mnode_output_filters\u001b[0m \u001b[1;33m=\u001b[0m \u001b[0moutputs\u001b[0m\u001b[1;33m\u001b[0m\u001b[0m\n\u001b[0;32m    860\u001b[0m \u001b[1;33m\u001b[0m\u001b[0m\n",
      "\u001b[1;32mD:\\SoftwareWork\\PythonProjects\\Miniconda\\envs\\datascience\\lib\\site-packages\\theano\\gof\\cc.py\u001b[0m in \u001b[0;36mmake_thunk\u001b[1;34m(self, input_storage, output_storage, storage_map, keep_lock)\u001b[0m\n\u001b[0;32m   1215\u001b[0m         cthunk, module, in_storage, out_storage, error_storage = self.__compile__(\n\u001b[0;32m   1216\u001b[0m             \u001b[0minput_storage\u001b[0m\u001b[1;33m,\u001b[0m \u001b[0moutput_storage\u001b[0m\u001b[1;33m,\u001b[0m \u001b[0mstorage_map\u001b[0m\u001b[1;33m,\u001b[0m\u001b[1;33m\u001b[0m\u001b[0m\n\u001b[1;32m-> 1217\u001b[1;33m             keep_lock=keep_lock)\n\u001b[0m\u001b[0;32m   1218\u001b[0m \u001b[1;33m\u001b[0m\u001b[0m\n\u001b[0;32m   1219\u001b[0m         \u001b[0mres\u001b[0m \u001b[1;33m=\u001b[0m \u001b[0m_CThunk\u001b[0m\u001b[1;33m(\u001b[0m\u001b[0mcthunk\u001b[0m\u001b[1;33m,\u001b[0m \u001b[0minit_tasks\u001b[0m\u001b[1;33m,\u001b[0m \u001b[0mtasks\u001b[0m\u001b[1;33m,\u001b[0m \u001b[0merror_storage\u001b[0m\u001b[1;33m,\u001b[0m \u001b[0mmodule\u001b[0m\u001b[1;33m)\u001b[0m\u001b[1;33m\u001b[0m\u001b[0m\n",
      "\u001b[1;32mD:\\SoftwareWork\\PythonProjects\\Miniconda\\envs\\datascience\\lib\\site-packages\\theano\\gof\\cc.py\u001b[0m in \u001b[0;36m__compile__\u001b[1;34m(self, input_storage, output_storage, storage_map, keep_lock)\u001b[0m\n\u001b[0;32m   1155\u001b[0m                                             \u001b[0moutput_storage\u001b[0m\u001b[1;33m,\u001b[0m\u001b[1;33m\u001b[0m\u001b[0m\n\u001b[0;32m   1156\u001b[0m                                             \u001b[0mstorage_map\u001b[0m\u001b[1;33m,\u001b[0m\u001b[1;33m\u001b[0m\u001b[0m\n\u001b[1;32m-> 1157\u001b[1;33m                                             keep_lock=keep_lock)\n\u001b[0m\u001b[0;32m   1158\u001b[0m         return (thunk,\n\u001b[0;32m   1159\u001b[0m                 \u001b[0mmodule\u001b[0m\u001b[1;33m,\u001b[0m\u001b[1;33m\u001b[0m\u001b[0m\n",
      "\u001b[1;32mD:\\SoftwareWork\\PythonProjects\\Miniconda\\envs\\datascience\\lib\\site-packages\\theano\\gof\\cc.py\u001b[0m in \u001b[0;36mcthunk_factory\u001b[1;34m(self, error_storage, in_storage, out_storage, storage_map, keep_lock)\u001b[0m\n\u001b[0;32m   1618\u001b[0m                 \u001b[0mnode\u001b[0m\u001b[1;33m.\u001b[0m\u001b[0mop\u001b[0m\u001b[1;33m.\u001b[0m\u001b[0mprepare_node\u001b[0m\u001b[1;33m(\u001b[0m\u001b[0mnode\u001b[0m\u001b[1;33m,\u001b[0m \u001b[0mstorage_map\u001b[0m\u001b[1;33m,\u001b[0m \u001b[1;32mNone\u001b[0m\u001b[1;33m,\u001b[0m \u001b[1;34m'c'\u001b[0m\u001b[1;33m)\u001b[0m\u001b[1;33m\u001b[0m\u001b[0m\n\u001b[0;32m   1619\u001b[0m             module = get_module_cache().module_from_key(\n\u001b[1;32m-> 1620\u001b[1;33m                 key=key, lnk=self, keep_lock=keep_lock)\n\u001b[0m\u001b[0;32m   1621\u001b[0m \u001b[1;33m\u001b[0m\u001b[0m\n\u001b[0;32m   1622\u001b[0m         \u001b[0mvars\u001b[0m \u001b[1;33m=\u001b[0m \u001b[0mself\u001b[0m\u001b[1;33m.\u001b[0m\u001b[0minputs\u001b[0m \u001b[1;33m+\u001b[0m \u001b[0mself\u001b[0m\u001b[1;33m.\u001b[0m\u001b[0moutputs\u001b[0m \u001b[1;33m+\u001b[0m \u001b[0mself\u001b[0m\u001b[1;33m.\u001b[0m\u001b[0morphans\u001b[0m\u001b[1;33m\u001b[0m\u001b[0m\n",
      "\u001b[1;32mD:\\SoftwareWork\\PythonProjects\\Miniconda\\envs\\datascience\\lib\\site-packages\\theano\\gof\\cmodule.py\u001b[0m in \u001b[0;36mmodule_from_key\u001b[1;34m(self, key, lnk, keep_lock)\u001b[0m\n\u001b[0;32m   1172\u001b[0m             \u001b[1;32mtry\u001b[0m\u001b[1;33m:\u001b[0m\u001b[1;33m\u001b[0m\u001b[0m\n\u001b[0;32m   1173\u001b[0m                 \u001b[0mlocation\u001b[0m \u001b[1;33m=\u001b[0m \u001b[0mdlimport_workdir\u001b[0m\u001b[1;33m(\u001b[0m\u001b[0mself\u001b[0m\u001b[1;33m.\u001b[0m\u001b[0mdirname\u001b[0m\u001b[1;33m)\u001b[0m\u001b[1;33m\u001b[0m\u001b[0m\n\u001b[1;32m-> 1174\u001b[1;33m                 \u001b[0mmodule\u001b[0m \u001b[1;33m=\u001b[0m \u001b[0mlnk\u001b[0m\u001b[1;33m.\u001b[0m\u001b[0mcompile_cmodule\u001b[0m\u001b[1;33m(\u001b[0m\u001b[0mlocation\u001b[0m\u001b[1;33m)\u001b[0m\u001b[1;33m\u001b[0m\u001b[0m\n\u001b[0m\u001b[0;32m   1175\u001b[0m                 \u001b[0mname\u001b[0m \u001b[1;33m=\u001b[0m \u001b[0mmodule\u001b[0m\u001b[1;33m.\u001b[0m\u001b[0m__file__\u001b[0m\u001b[1;33m\u001b[0m\u001b[0m\n\u001b[0;32m   1176\u001b[0m                 \u001b[1;32massert\u001b[0m \u001b[0mname\u001b[0m\u001b[1;33m.\u001b[0m\u001b[0mstartswith\u001b[0m\u001b[1;33m(\u001b[0m\u001b[0mlocation\u001b[0m\u001b[1;33m)\u001b[0m\u001b[1;33m\u001b[0m\u001b[0m\n",
      "\u001b[1;32mD:\\SoftwareWork\\PythonProjects\\Miniconda\\envs\\datascience\\lib\\site-packages\\theano\\gof\\cc.py\u001b[0m in \u001b[0;36mcompile_cmodule\u001b[1;34m(self, location)\u001b[0m\n\u001b[0;32m   1521\u001b[0m                 \u001b[0mlib_dirs\u001b[0m\u001b[1;33m=\u001b[0m\u001b[0mself\u001b[0m\u001b[1;33m.\u001b[0m\u001b[0mlib_dirs\u001b[0m\u001b[1;33m(\u001b[0m\u001b[1;33m)\u001b[0m\u001b[1;33m,\u001b[0m\u001b[1;33m\u001b[0m\u001b[0m\n\u001b[0;32m   1522\u001b[0m                 \u001b[0mlibs\u001b[0m\u001b[1;33m=\u001b[0m\u001b[0mlibs\u001b[0m\u001b[1;33m,\u001b[0m\u001b[1;33m\u001b[0m\u001b[0m\n\u001b[1;32m-> 1523\u001b[1;33m                 preargs=preargs)\n\u001b[0m\u001b[0;32m   1524\u001b[0m         \u001b[1;32mexcept\u001b[0m \u001b[0mException\u001b[0m \u001b[1;32mas\u001b[0m \u001b[0me\u001b[0m\u001b[1;33m:\u001b[0m\u001b[1;33m\u001b[0m\u001b[0m\n\u001b[0;32m   1525\u001b[0m             \u001b[0me\u001b[0m\u001b[1;33m.\u001b[0m\u001b[0margs\u001b[0m \u001b[1;33m+=\u001b[0m \u001b[1;33m(\u001b[0m\u001b[0mstr\u001b[0m\u001b[1;33m(\u001b[0m\u001b[0mself\u001b[0m\u001b[1;33m.\u001b[0m\u001b[0mfgraph\u001b[0m\u001b[1;33m)\u001b[0m\u001b[1;33m,\u001b[0m\u001b[1;33m)\u001b[0m\u001b[1;33m\u001b[0m\u001b[0m\n",
      "\u001b[1;32mD:\\SoftwareWork\\PythonProjects\\Miniconda\\envs\\datascience\\lib\\site-packages\\theano\\gof\\cmodule.py\u001b[0m in \u001b[0;36mcompile_str\u001b[1;34m(module_name, src_code, location, include_dirs, lib_dirs, libs, preargs, py_module, hide_symbols)\u001b[0m\n\u001b[0;32m   2369\u001b[0m             \u001b[0mopen\u001b[0m\u001b[1;33m(\u001b[0m\u001b[0mos\u001b[0m\u001b[1;33m.\u001b[0m\u001b[0mpath\u001b[0m\u001b[1;33m.\u001b[0m\u001b[0mjoin\u001b[0m\u001b[1;33m(\u001b[0m\u001b[0mlocation\u001b[0m\u001b[1;33m,\u001b[0m \u001b[1;34m\"__init__.py\"\u001b[0m\u001b[1;33m)\u001b[0m\u001b[1;33m,\u001b[0m \u001b[1;34m'w'\u001b[0m\u001b[1;33m)\u001b[0m\u001b[1;33m.\u001b[0m\u001b[0mclose\u001b[0m\u001b[1;33m(\u001b[0m\u001b[1;33m)\u001b[0m\u001b[1;33m\u001b[0m\u001b[0m\n\u001b[0;32m   2370\u001b[0m             \u001b[1;32massert\u001b[0m \u001b[0mos\u001b[0m\u001b[1;33m.\u001b[0m\u001b[0mpath\u001b[0m\u001b[1;33m.\u001b[0m\u001b[0misfile\u001b[0m\u001b[1;33m(\u001b[0m\u001b[0mlib_filename\u001b[0m\u001b[1;33m)\u001b[0m\u001b[1;33m\u001b[0m\u001b[0m\n\u001b[1;32m-> 2371\u001b[1;33m             \u001b[1;32mreturn\u001b[0m \u001b[0mdlimport\u001b[0m\u001b[1;33m(\u001b[0m\u001b[0mlib_filename\u001b[0m\u001b[1;33m)\u001b[0m\u001b[1;33m\u001b[0m\u001b[0m\n\u001b[0m\u001b[0;32m   2372\u001b[0m \u001b[1;33m\u001b[0m\u001b[0m\n\u001b[0;32m   2373\u001b[0m \u001b[1;33m\u001b[0m\u001b[0m\n",
      "\u001b[1;32mD:\\SoftwareWork\\PythonProjects\\Miniconda\\envs\\datascience\\lib\\site-packages\\theano\\gof\\cmodule.py\u001b[0m in \u001b[0;36mdlimport\u001b[1;34m(fullpath, suffix)\u001b[0m\n\u001b[0;32m    300\u001b[0m             warnings.filterwarnings(\"ignore\",\n\u001b[0;32m    301\u001b[0m                                     message=\"numpy.ndarray size changed\")\n\u001b[1;32m--> 302\u001b[1;33m             \u001b[0mrval\u001b[0m \u001b[1;33m=\u001b[0m \u001b[0m__import__\u001b[0m\u001b[1;33m(\u001b[0m\u001b[0mmodule_name\u001b[0m\u001b[1;33m,\u001b[0m \u001b[1;33m{\u001b[0m\u001b[1;33m}\u001b[0m\u001b[1;33m,\u001b[0m \u001b[1;33m{\u001b[0m\u001b[1;33m}\u001b[0m\u001b[1;33m,\u001b[0m \u001b[1;33m[\u001b[0m\u001b[0mmodule_name\u001b[0m\u001b[1;33m]\u001b[0m\u001b[1;33m)\u001b[0m\u001b[1;33m\u001b[0m\u001b[0m\n\u001b[0m\u001b[0;32m    303\u001b[0m         \u001b[0mt1\u001b[0m \u001b[1;33m=\u001b[0m \u001b[0mtime\u001b[0m\u001b[1;33m.\u001b[0m\u001b[0mtime\u001b[0m\u001b[1;33m(\u001b[0m\u001b[1;33m)\u001b[0m\u001b[1;33m\u001b[0m\u001b[0m\n\u001b[0;32m    304\u001b[0m         \u001b[0mimport_time\u001b[0m \u001b[1;33m+=\u001b[0m \u001b[0mt1\u001b[0m \u001b[1;33m-\u001b[0m \u001b[0mt0\u001b[0m\u001b[1;33m\u001b[0m\u001b[0m\n",
      "\u001b[1;31mImportError\u001b[0m: DLL load failed: A dynamic link library (DLL) initialization routine failed."
     ],
     "output_type": "error"
    }
   ],
   "source": [
    "model = mdl._LogisticBayesianSklearn()\n",
    "model.fit(X=data[['Age','Female']], y=data['Survived'])\n",
    "model.decision_function(X=dataT[['Age','Female']])"
   ]
  },
  {
   "cell_type": "markdown",
   "metadata": {},
   "source": [
    "###KNN"
   ]
  },
  {
   "cell_type": "code",
   "execution_count": 5,
   "metadata": {},
   "outputs": [
    {
     "name": "stdout",
     "output_type": "stream",
     "text": [
      "****** KNN ******\n\n-----Train and Test Sets-----\nSample Size (Train / Test): 623 / 268\nSurvived Rate (Train / Test): 0.37 / 0.41\n\n-----Performance-----\naccuracy\t (IS / CV / OOS): 0.82 / 0.79 / 0.80\naccproba\t (IS / CV / OOS): 0.75 / 0.71 / 0.73\nlogproba\t (IS / CV / OOS): -0.38 / -1.08 / -1.40\naucproba\t (IS / CV / OOS): 0.89 / 0.84 / 0.85\nrecall\t (IS / CV / OOS): 0.65 / 0.64 / 0.71\nprecision\t (IS / CV / OOS): 0.84 / 0.78 / 0.79\n\n-----Confusion (IS)-----\n   0-pred  1-pred\n0    0.58    0.05\n1    0.13    0.24\n-----Confusion (OOS)-----\n   0-pred  1-pred\n0    0.51    0.08\n1    0.12    0.29\n\n"
     ]
    }
   ],
   "source": [
    "modelKNN = mdl.KNN(scale=True, n_neighbors=10, weights='uniform')\n",
    "modelKNN.fit(data)\n",
    "modelKNN.predict(dataT)\n",
    "modelKNN.printSummary()\n",
    "modelKNN.plotROC()"
   ]
  },
  {
   "cell_type": "markdown",
   "metadata": {},
   "source": [
    "###KNN CV"
   ]
  },
  {
   "cell_type": "code",
   "execution_count": 15,
   "metadata": {},
   "outputs": [
    {
     "name": "stdout",
     "output_type": "stream",
     "text": [
      "****** KNN CV ******\n\n-----Train and Test Sets-----\nSample Size (Train / Test): 623 / 268\nSurvived Rate (Train / Test): 0.37 / 0.41\n\n-----Best k-----\nk = 10 with the score = 0.79\n\n"
     ]
    },
    {
     "name": "stdout",
     "output_type": "stream",
     "text": [
      "-----Performance-----\naccuracy\t (IS / CV / OOS): 0.82 / 0.79 / 0.80\naccproba\t (IS / CV / OOS): 0.75 / 0.72 / 0.73\nlogproba\t (IS / CV / OOS): -0.38 / -1.63 / -1.40\naucproba\t (IS / CV / OOS): 0.89 / 0.84 / 0.85\nrecall\t (IS / CV / OOS): 0.65 / 0.65 / 0.71\nprecision\t (IS / CV / OOS): 0.84 / 0.78 / 0.79\n\n-----Confusion (IS)-----\n   0-pred  1-pred\n0    0.58    0.05\n1    0.13    0.24\n-----Confusion (OOS)-----\n   0-pred  1-pred\n0    0.51    0.08\n1    0.12    0.29\n\n"
     ]
    }
   ],
   "source": [
    "modelKNNCV = mdl.KNNCV(scale=True, weights='uniform')\n",
    "modelKNNCV.fit(data)\n",
    "modelKNNCV.predict(dataT)\n",
    "modelKNNCV.printSummary()\n",
    "modelKNNCV.plotROC()"
   ]
  },
  {
   "cell_type": "markdown",
   "metadata": {},
   "source": [
    "###Decision Trees"
   ]
  },
  {
   "cell_type": "code",
   "execution_count": 26,
   "metadata": {},
   "outputs": [
    {
     "name": "stdout",
     "output_type": "stream",
     "text": [
      "****** DECISION TREE ******\n\n-----Train and Test Sets-----\nSample Size (Train / Test): 623 / 268\nSurvived Rate (Train / Test): 0.37 / 0.41\n\n-----Performance-----\naccuracy\t (IS / CV / OOS): 0.82 / 0.77 / 0.83\naccproba\t (IS / CV / OOS): 0.72 / 0.70 / 0.73\nlogproba\t (IS / CV / OOS): -0.43 / -0.62 / -0.54\naucproba\t (IS / CV / OOS): 0.87 / 0.85 / 0.86\nrecall\t (IS / CV / OOS): 0.70 / 0.74 / 0.74\nprecision\t (IS / CV / OOS): 0.80 / 0.70 / 0.82\n\n-----Confusion (IS)-----\n   0-pred  1-pred\n0    0.56    0.07\n1    0.11    0.26\n-----Confusion (OOS)-----\n   0-pred  1-pred\n0    0.53    0.07\n1    0.10    0.30\n\n"
     ]
    }
   ],
   "source": [
    "modelTree = mdl.Tree(scale=True, max_depth=3, class_weight='balanced', random_state=1)\n",
    "modelTree.fit(data)\n",
    "modelTree.predict(dataT)\n",
    "modelTree.printSummary()\n",
    "modelTree.plotROC()\n",
    "modelTree.visualizeTree()"
   ]
  },
  {
   "cell_type": "markdown",
   "metadata": {},
   "source": [
    "###Decision Trees CV"
   ]
  },
  {
   "cell_type": "code",
   "execution_count": 36,
   "metadata": {},
   "outputs": [
    {
     "name": "stdout",
     "output_type": "stream",
     "text": [
      "****** TREE CV ******\n\n-----Train and Test Sets-----\nSample Size (Train / Test): 623 / 268\nSurvived Rate (Train / Test): 0.37 / 0.41\n\n-----Best Parameters-----\nmax_depth = 3 and max_leaf_nodes = 6 with the score = 0.81\n\n-----Feature Importance-----\nPclass      0.08\nAge         0.10\nFare        0.13\nEmbarkedC   0.00\nEmbarkedS   0.00\nFemale      0.69\nSibSpYes    0.00\nParchYes    0.00\ndtype: float64\n\n"
     ]
    },
    {
     "name": "stdout",
     "output_type": "stream",
     "text": [
      "-----Performance-----\naccuracy\t (IS / CV / OOS): 0.82 / 0.79 / 0.83\naccproba\t (IS / CV / OOS): 0.72 / 0.69 / 0.73\nlogproba\t (IS / CV / OOS): -0.43 / -0.48 / -0.41\naucproba\t (IS / CV / OOS): 0.86 / 0.84 / 0.87\nrecall\t (IS / CV / OOS): 0.70 / 0.71 / 0.74\nprecision\t (IS / CV / OOS): 0.80 / 0.74 / 0.82\n\n-----Confusion (IS)-----\n   0-pred  1-pred\n0    0.56    0.07\n1    0.11    0.26\n-----Confusion (OOS)-----\n   0-pred  1-pred\n0    0.53    0.07\n1    0.10    0.30\n\n"
     ]
    }
   ],
   "source": [
    "modelTreeCV = mdl.TreeCV(scale=True, class_weight='balanced', random_state=1)\n",
    "modelTreeCV.fit(data)\n",
    "modelTreeCV.predict(dataT)\n",
    "modelTreeCV.printSummary()\n",
    "modelTreeCV.plotROC()\n",
    "modelTreeCV.visualizeTree()"
   ]
  },
  {
   "cell_type": "markdown",
   "metadata": {},
   "source": [
    "###Random Forests"
   ]
  },
  {
   "cell_type": "code",
   "execution_count": 39,
   "metadata": {},
   "outputs": [
    {
     "name": "stdout",
     "output_type": "stream",
     "text": [
      "****** RANDOM FOREST ******\n\n-----Train and Test Sets-----\nSample Size (Train / Test): 623 / 268\nSurvived Rate (Train / Test): 0.37 / 0.41\n\n-----Feature Importance-----\nPclass      0.09\nAge         0.14\nFare        0.20\nEmbarkedC   0.01\nEmbarkedS   0.01\nFemale      0.54\nSibSpYes    0.01\nParchYes    0.00\ndtype: float64\n\n"
     ]
    },
    {
     "name": "stdout",
     "output_type": "stream",
     "text": [
      "-----Performance-----\naccuracy\t (IS / CV / OOS): 0.87 / 0.79 / 0.84\naccproba\t (IS / CV / OOS): 0.75 / 0.72 / 0.75\nlogproba\t (IS / CV / OOS): -0.37 / -0.45 / -0.39\naucproba\t (IS / CV / OOS): 0.92 / 0.86 / 0.88\nrecall\t (IS / CV / OOS): 0.84 / 0.73 / 0.79\nprecision\t (IS / CV / OOS): 0.82 / 0.73 / 0.81\n\n-----Confusion (IS)-----\n   0-pred  1-pred\n0    0.56    0.07\n1    0.06    0.31\n-----Confusion (OOS)-----\n   0-pred  1-pred\n0    0.52    0.07\n1    0.09    0.32\n\n"
     ]
    }
   ],
   "source": [
    "modelRandomForest = mdl.RandomForest(scale=True, n_estimators=128, max_features=None,\n",
    "                                     max_depth=None, max_leaf_nodes=16, class_weight='balanced', random_state=1)\n",
    "modelRandomForest.fit(data)\n",
    "modelRandomForest.predict(dataT)\n",
    "modelRandomForest.printSummary()\n",
    "modelRandomForest.plotROC()\n"
   ]
  },
  {
   "cell_type": "markdown",
   "metadata": {},
   "source": [
    "###Boosted Trees"
   ]
  },
  {
   "cell_type": "code",
   "execution_count": 27,
   "metadata": {
    "collapsed": false
   },
   "outputs": [
    {
     "name": "stdout",
     "output_type": "stream",
     "text": [
      "****** BOOSTED TREE ******\n\n-----Train and Test Sets-----\nSample Size (Train / Test): 623 / 268\nSurvived Rate (Train / Test): 0.37 / 0.41\n\n-----Feature Importance-----\nPclass      0.07\nAge         0.35\nFare        0.42\nEmbarkedC   0.00\nEmbarkedS   0.02\nFemale      0.08\nSibSpYes    0.03\nParchYes    0.02\ndtype: float64\n\n"
     ]
    },
    {
     "name": "stdout",
     "output_type": "stream",
     "text": [
      "-----Performance-----\naccuracy\t (IS / CV / OOS): 0.89 / 0.80 / 0.84\naccproba\t (IS / CV / OOS): 0.77 / 0.72 / 0.74\nlogproba\t (IS / CV / OOS): -0.31 / -0.48 / -0.41\naucproba\t (IS / CV / OOS): 0.94 / 0.84 / 0.89\nrecall\t (IS / CV / OOS): 0.86 / 0.75 / 0.83\nprecision\t (IS / CV / OOS): 0.84 / 0.72 / 0.78\n\n-----Confusion (IS)-----\n   0-pred  1-pred\n0    0.56    0.06\n1    0.05    0.32\n-----Confusion (OOS)-----\n   0-pred  1-pred\n0    0.50    0.09\n1    0.07    0.34\n\n"
     ]
    }
   ],
   "source": [
    "modelBoostedTree = mdl.BoostedTree(scale=True, n_estimators=256, loss='deviance', learning_rate=0.1, subsample=1.,\n",
    "                                   max_features=None, max_depth=2, max_leaf_nodes=None, random_state=1,\n",
    "                                   balanceWeights=True)\n",
    "modelBoostedTree.fit(data)\n",
    "modelBoostedTree.predict(dataT)\n",
    "modelBoostedTree.printSummary()\n",
    "modelBoostedTree.plotROC()\n",
    "modelBoostedTree.plotPartialDependence(features=None)\n",
    "modelBoostedTree.plotPartialDependence(features=('Age', 'Fare', 'Pclass', \n",
    "                                                 ('Age','Fare'),('Age','Pclass'),('Fare','Pclass'),\n",
    "                                                 ('Female', 'Age'), ('Female','Pclass'),('Female','Fare')))"
   ]
  },
  {
   "cell_type": "markdown",
   "metadata": {},
   "source": [
    "###Boosted Trees (XGBoost) - UNDER CONSTRUCTION"
   ]
  },
  {
   "cell_type": "code",
   "execution_count": 5,
   "metadata": {},
   "outputs": [],
   "source": [
    "# modelBoostedTreeXG = mdl.BoostedTreeXGBoost(scale=True, n_estimators=128, loss='deviance', learning_rate=1.,\n",
    "#                                             max_features=None, max_depth=2, max_leaf_nodes=None, random_state=1,\n",
    "#                                             balanceWeights=True)\n",
    "# modelBoostedTreeXG.fit(data)\n",
    "# modelBoostedTreeXG.predict(dataT)\n",
    "# modelBoostedTreeXG.printSummary()\n",
    "# modelBoostedTreeXG.plotROC()\n"
   ]
  },
  {
   "cell_type": "code",
   "execution_count": null,
   "metadata": {},
   "outputs": [],
   "source": []
  }
 ],
 "metadata": {
  "kernelspec": {
   "display_name": "Python 2",
   "language": "python",
   "name": "python2"
  },
  "language_info": {
   "codemirror_mode": {
    "name": "ipython",
    "version": 2
   },
   "file_extension": ".py",
   "mimetype": "text/x-python",
   "name": "python",
   "nbconvert_exporter": "python",
   "pygments_lexer": "ipython2",
   "version": "2.7.6"
  }
 },
 "nbformat": 4,
 "nbformat_minor": 0
}
